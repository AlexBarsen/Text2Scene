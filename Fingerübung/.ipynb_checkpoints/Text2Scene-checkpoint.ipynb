{
 "cells": [
  {
   "cell_type": "code",
   "execution_count": 1,
   "metadata": {},
   "outputs": [
    {
     "ename": "ModuleNotFoundError",
     "evalue": "No module named 'spacy'",
     "output_type": "error",
     "traceback": [
      "\u001b[1;31m---------------------------------------------------------------------------\u001b[0m",
      "\u001b[1;31mModuleNotFoundError\u001b[0m                       Traceback (most recent call last)",
      "\u001b[1;32m<ipython-input-1-d5132120722c>\u001b[0m in \u001b[0;36m<module>\u001b[1;34m\u001b[0m\n\u001b[0;32m      1\u001b[0m \u001b[1;32mfrom\u001b[0m \u001b[0mcollections\u001b[0m \u001b[1;32mimport\u001b[0m \u001b[0mCounter\u001b[0m\u001b[1;33m\u001b[0m\u001b[1;33m\u001b[0m\u001b[0m\n\u001b[1;32m----> 2\u001b[1;33m \u001b[1;32mimport\u001b[0m \u001b[0mspacy\u001b[0m\u001b[1;33m\u001b[0m\u001b[1;33m\u001b[0m\u001b[0m\n\u001b[0m\u001b[0;32m      3\u001b[0m \u001b[1;32mimport\u001b[0m \u001b[0mxml\u001b[0m\u001b[1;33m.\u001b[0m\u001b[0metree\u001b[0m\u001b[1;33m.\u001b[0m\u001b[0mElementTree\u001b[0m \u001b[1;32mas\u001b[0m \u001b[0met\u001b[0m\u001b[1;33m\u001b[0m\u001b[1;33m\u001b[0m\u001b[0m\n\u001b[0;32m      4\u001b[0m \u001b[1;32mimport\u001b[0m \u001b[0mmatplotlib\u001b[0m\u001b[1;33m.\u001b[0m\u001b[0mpyplot\u001b[0m \u001b[1;32mas\u001b[0m \u001b[0mplt\u001b[0m\u001b[1;33m\u001b[0m\u001b[1;33m\u001b[0m\u001b[0m\n\u001b[0;32m      5\u001b[0m \u001b[0mnlp\u001b[0m \u001b[1;33m=\u001b[0m \u001b[0mspacy\u001b[0m\u001b[1;33m.\u001b[0m\u001b[0mload\u001b[0m\u001b[1;33m(\u001b[0m\u001b[1;34m\"en_core_web_sm\"\u001b[0m\u001b[1;33m)\u001b[0m\u001b[1;33m\u001b[0m\u001b[1;33m\u001b[0m\u001b[0m\n",
      "\u001b[1;31mModuleNotFoundError\u001b[0m: No module named 'spacy'"
     ]
    }
   ],
   "source": [
    "from collections import Counter\n",
    "import spacy\n",
    "import xml.etree.ElementTree as et\n",
    "import matplotlib.pyplot as plt\n",
    "nlp = spacy.load(\"en_core_web_sm\")"
   ]
  },
  {
   "cell_type": "code",
   "execution_count": 3,
   "metadata": {},
   "outputs": [],
   "source": [
    "tree = et.parse('ANC\\WhereToMadrid\\Modern_Madrid.xml')\n",
    "root = tree.getroot()"
   ]
  },
  {
   "cell_type": "code",
   "execution_count": 4,
   "metadata": {},
   "outputs": [],
   "source": [
    "text = None\n",
    "for child in root:\n",
    "    if child.tag == \"TEXT\":\n",
    "        doc = nlp(child.text)"
   ]
  },
  {
   "cell_type": "code",
   "execution_count": 5,
   "metadata": {},
   "outputs": [
    {
     "name": "stdout",
     "output_type": "stream",
     "text": [
      "PoS-Tags = Counter({'NOUN': 147, 'PROPN': 119, 'PUNCT': 110, 'DET': 83, 'ADP': 80, 'SPACE': 69, 'ADJ': 69, 'VERB': 46, 'CCONJ': 29, 'AUX': 26, 'ADV': 24, 'PART': 13, 'NUM': 11, 'PRON': 7, 'X': 3, 'SCONJ': 2})\n",
      "Es gibt 18 SpatialEntities\n",
      "Es gibt 71 Places\n",
      "Es gibt 6 Motions\n",
      "Es gibt 42 QsLinks\n",
      "Es gibt 8 OLinks\n",
      "Es gibt 27 Signals\n"
     ]
    }
   ],
   "source": [
    "# Wie oft kommen welche PoS-Tags vor?\n",
    "c_t = Counter(([token.pos_ for token in doc]))\n",
    "print(\"PoS-Tags =\", c_t)\n",
    "\n",
    "# Wie viele [SpatialEntities, Places, Motions, Signals, QsLinks, OLinks] gibt es?\n",
    "c_se = Counter(([elem.tag for elem in root.iter(\"SPATIAL_ENTITY\")]))\n",
    "print(\"Es gibt\", sum(c_se.values()), \"SpatialEntities\")\n",
    "\n",
    "c_p = Counter(([elem.tag for elem in root.iter(\"PLACE\")]))\n",
    "print(\"Es gibt\", sum(c_p.values()), \"Places\")\n",
    "\n",
    "c_m = Counter(([elem.tag for elem in root.iter(\"MOTION\")]))\n",
    "print(\"Es gibt\", sum(c_m.values()), \"Motions\")\n",
    "\n",
    "c_qs_link = Counter(([elem.tag for elem in root.iter(\"QSLINK\")]))\n",
    "print(\"Es gibt\", sum(c_qs_link.values()), \"QsLinks\")\n",
    "\n",
    "c_o_link = Counter(([elem.tag for elem in root.iter(\"OLINK\")]))\n",
    "print(\"Es gibt\", sum(c_o_link.values()), \"OLinks\")\n",
    "\n",
    "# Signals = spatial signals + motion signals ?\n",
    "c_s_s = Counter(([elem.tag for elem in root.iter(\"SPATIAL_SIGNAL\")]))\n",
    "c_m_s = Counter(([elem.tag for elem in root.iter(\"MOTION_SIGNAL\")]))\n",
    "c_s= sum(c_s_s.values()) + sum(c_m_s.values())\n",
    "print(\"Es gibt\", c_s, \"Signals\")"
   ]
  },
  {
   "cell_type": "code",
   "execution_count": 6,
   "metadata": {},
   "outputs": [
    {
     "name": "stdout",
     "output_type": "stream",
     "text": [
      "QsLink Typen = Counter({'IN': 21, 'NTPP': 11, 'PO': 4, 'OUT': 2, 'TPP': 2, 'EQ': 1, 'EC': 1})\n"
     ]
    }
   ],
   "source": [
    "# Wie oft kommen welche QsLink Typen vor? (DC,EC, ...)?\n",
    "c_qs_type =  Counter(([elem.get('relType') for elem in root.iter(\"QSLINK\")]))\n",
    "print(\"QsLink Typen =\", c_qs_type)"
   ]
  },
  {
   "cell_type": "code",
   "execution_count": 7,
   "metadata": {},
   "outputs": [
    {
     "data": {
      "image/png": "[encoded data removed]",
      "text/plain": [
       "<Figure size 432x288 with 1 Axes>"
      ]
     },
     "metadata": {
      "needs_background": "light"
     },
     "output_type": "display_data"
    }
   ],
   "source": [
    "# Verteilung der Satzlänge graphisch darstellen (x: Satzlänge, y: Wie häufig)?\n",
    "sentences = list(doc.sents)\n",
    "\n",
    "# Häufigkeit von Sätzen \n",
    "values = []\n",
    "for i in range(0, len(sentences)):\n",
    "    values.append(len(sentences[i]))\n",
    "\n",
    "plt.hist(values, bins = max(values))\n",
    "\n",
    "# Titel und Axis-Namen\n",
    "plt.title('My title')\n",
    "plt.xlabel('Satzlänge')\n",
    "plt.ylabel('Wie häufig?')\n",
    "\n",
    "plt.show()"
   ]
  },
  {
   "cell_type": "code",
   "execution_count": 12,
   "metadata": {},
   "outputs": [
    {
     "name": "stdout",
     "output_type": "stream",
     "text": [
      "QSLINK id = qsl16 getriggert von s3 in\n",
      "QSLINK id = qsl17 getriggert von s4 On\n",
      "QSLINK id = qsl18 getriggert von s6 in\n",
      "QSLINK id = qsl19 getriggert von s7 in\n",
      "QSLINK id = qsl20 getriggert von s8 in\n",
      "QSLINK id = qsl23 getriggert von s11 with\n",
      "QSLINK id = qsl26 getriggert von s12 bordering\n",
      "QSLINK id = qsl27 getriggert von s13 In\n",
      "QSLINK id = qsl28 getriggert von s15 in\n",
      "QSLINK id = qsl29 getriggert von s16 with\n",
      "QSLINK id = qsl32 getriggert von s17 in\n",
      "QSLINK id = qsl33 getriggert von s18 on\n",
      "QSLINK id = qsl8 getriggert von s0 connects\n",
      "QSLINK id = qsl9 getriggert von s0 connects\n",
      "QSLINK id = qsl10 getriggert von s0 connects\n",
      "QSLINK id = qsl11 getriggert von s0 connects\n",
      "QSLINK id = qsl36 getriggert von s20 houses\n",
      "QSLINK id = qsl37 getriggert von s20 houses\n",
      "QSLINK id = qsl38 getriggert von s20 houses\n",
      "QSLINK id = qsl39 getriggert von s20 houses\n",
      "QSLINK id = qsl40 getriggert von s20 houses\n",
      "QSLINK id = qsl13 getriggert von s2 with\n",
      "QSLINK id = qsl14 getriggert von s2 with\n",
      "QSLINK id = qsl15 getriggert von s2 with\n"
     ]
    }
   ],
   "source": [
    "# Welche Links (QSLINKS, OLINKS) werden von welchen Präpositionen (markiert durch SPATIAL_SIGNAL) getriggert?\n",
    "triggers = []\n",
    "for qslink in root.iter(\"QSLINK\"):\n",
    "    if qslink.get(\"trigger\") != \"\":\n",
    "        trigger = qslink.get(\"trigger\"), qslink.get(\"id\")\n",
    "        triggers.append(trigger)\n",
    "\n",
    "for spatial_signal in root.iter(\"SPATIAL_SIGNAL\"):\n",
    "    for i in range (len(triggers)):\n",
    "        if spatial_signal.get(\"id\") in triggers[i]:\n",
    "            print(\"QSLINK id =\",triggers[i][1], \"getriggert von\", spatial_signal.get(\"id\"),  spatial_signal.get(\"text\"))"
   ]
  },
  {
   "cell_type": "code",
   "execution_count": 11,
   "metadata": {},
   "outputs": [
    {
     "name": "stdout",
     "output_type": "stream",
     "text": [
      "OLINK id = ol1 getriggert von under\n",
      "OLINK id = ol2 getriggert von below\n",
      "OLINK id = ol3 getriggert von beneath\n",
      "OLINK id = ol4 getriggert von beneath\n",
      "OLINK id = ol5 getriggert von west\n",
      "OLINK id = ol6 getriggert von north of\n",
      "OLINK id = ol7 getriggert von east of\n",
      "OLINK id = ol0 getriggert von east\n"
     ]
    }
   ],
   "source": [
    "#Welche Links (QSLINKS, OLINKS) werden von welchen Präpositionen (markiert durch SPATIAL_SIGNAL) getriggert?\n",
    "triggers2 = []\n",
    "for olink in root.iter(\"OLINK\"):\n",
    "    if olink.get(\"trigger\") != \"\":\n",
    "        trigger2 = olink.get(\"trigger\"), olink.get(\"id\")\n",
    "        triggers2.append(trigger2)\n",
    "\n",
    "for spatial_signal in root.iter(\"SPATIAL_SIGNAL\"):\n",
    "    for i in range (len(triggers2)):\n",
    "        if spatial_signal.get(\"id\") in triggers2[i]:\n",
    "            print(\"OLINK id =\",triggers2[i][1], \"getriggert von\", spatial_signal.get(\"text\"))"
   ]
  },
  {
   "cell_type": "code",
   "execution_count": 27,
   "metadata": {},
   "outputs": [
    {
     "name": "stdout",
     "output_type": "stream",
     "text": [
      "took\n",
      "resulting\n",
      "sprawling\n",
      "connects\n",
      "runs\n",
      "distinguished\n",
      "addresses\n",
      "preserved\n",
      "found\n",
      "wearing\n",
      "may\n",
      "painted\n",
      "discovered\n",
      "dating\n",
      "representing\n",
      "said\n",
      "discovered\n",
      "reaching\n",
      "operates\n",
      "running\n",
      "bordering\n",
      "come\n",
      "give\n",
      "blocks\n",
      "ranging\n",
      "Featured\n",
      "including\n",
      "masterpieces\n",
      "comprise\n",
      "dated\n",
      "spotlighted\n",
      "painted\n",
      "entitled\n",
      "devoted\n",
      "showing\n",
      "lived\n",
      "y\n",
      "Bullfighting\n",
      "called\n",
      "go\n",
      "see\n",
      "continues\n",
      "inspire\n",
      "visited\n",
      "bullfighting\n",
      "want\n"
     ]
    }
   ],
   "source": [
    "# Welches sind die fünf häufigsten \"MOVEMENT\"Verben (und wie oft kommen diese vor)?\n",
    "for token in doc:\n",
    "    if token.pos_ == \"VERB\":\n",
    "        print(token)"
   ]
  },
  {
   "cell_type": "code",
   "execution_count": null,
   "metadata": {},
   "outputs": [],
   "source": []
  },
  {
   "cell_type": "code",
   "execution_count": null,
   "metadata": {},
   "outputs": [],
   "source": []
  }
 ],
 "metadata": {
  "kernelspec": {
   "display_name": "Python 3",
   "language": "python",
   "name": "python3"
  },
  "language_info": {
   "codemirror_mode": {
    "name": "ipython",
    "version": 3
   },
   "file_extension": ".py",
   "mimetype": "text/x-python",
   "name": "python",
   "nbconvert_exporter": "python",
   "pygments_lexer": "ipython3",
   "version": "3.8.2"
  }
 },
 "nbformat": 4,
 "nbformat_minor": 4
}
